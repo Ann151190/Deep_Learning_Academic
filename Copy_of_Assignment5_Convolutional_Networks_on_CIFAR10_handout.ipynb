{
  "nbformat": 4,
  "nbformat_minor": 0,
  "metadata": {
    "colab": {
      "name": "Copy of Assignment5-Convolutional_Networks_on_CIFAR10_handout.ipynb",
      "version": "0.3.2",
      "provenance": [],
      "collapsed_sections": []
    },
    "language_info": {
      "codemirror_mode": {
        "name": "ipython",
        "version": 3
      },
      "file_extension": ".py",
      "mimetype": "text/x-python",
      "name": "python",
      "nbconvert_exporter": "python",
      "pygments_lexer": "ipython3",
      "version": "3.6.8"
    },
    "kernelspec": {
      "display_name": "Python 3",
      "language": "python",
      "name": "python3"
    },
    "accelerator": "GPU"
  },
  "cells": [
    {
      "cell_type": "markdown",
      "metadata": {
        "colab_type": "text",
        "id": "eSHhdguTHm0N"
      },
      "source": [
        "# Task: CIFAR-10 classification\n",
        "\n",
        "The [CIFAR-10 dataset](https://www.cs.toronto.edu/~kriz/cifar.html)\n",
        "\n",
        "> \"consists of 60000 32x32 colour images in 10 classes, with 6000 images per class. There are 50000 training images and 10000 test images.\n",
        "\n",
        ">The dataset is divided into five training batches and one test batch, each with 10000 images. The test batch contains exactly 1000 randomly-selected images from each class. The training batches contain the remaining images in random order, but some training batches may contain more images from one class than another. Between them, the training batches contain exactly 5000 images from each class.\"\n",
        "\n",
        "<img src=\"https://corochann.com/wp-content/uploads/2017/04/cifar10_plot.png\">\n",
        "\n",
        "### Categories:\n",
        "\n",
        "- airplane \t\t\t\t\t\t\t\t\t\t\n",
        "- automobile \t\t\t\t\t\t\t\t\t\t\n",
        "- bird \t\t\t\t\t\t\t\t\t\t\n",
        "- cat \t\t\t\t\t\t\t\t\t\t\n",
        "- deer \t\t\t\t\t\t\t\t\t\t\n",
        "- dog \t\t\t\t\t\t\t\t\t\t\n",
        "- frog \t\t\t\t\t\t\t\t\t\t\n",
        "- horse \t\t\t\t\t\t\t\t\t\t\n",
        "- ship \t\t\t\t\t\t\t\t\t\t\n",
        "- truck"
      ]
    },
    {
      "cell_type": "markdown",
      "metadata": {
        "colab_type": "text",
        "id": "TIX2ehpiHm0S"
      },
      "source": [
        "# Preliminaries"
      ]
    },
    {
      "cell_type": "code",
      "metadata": {
        "ExecuteTime": {
          "end_time": "2019-05-01T08:39:01.205778Z",
          "start_time": "2019-05-01T08:39:00.058811Z"
        },
        "colab_type": "code",
        "id": "sTT_MyHltNm4",
        "colab": {}
      },
      "source": [
        "import numpy as np\n",
        "import os\n",
        "\n",
        "import tensorflow as tf\n",
        "from tensorflow.keras.layers import Input, Dense, Dropout, Conv2D, MaxPool2D, Flatten\n",
        "from tensorflow.keras.models import Model\n",
        "from tensorflow.keras.optimizers import Adadelta, Adam, SGD\n",
        "from tensorflow.keras.losses import sparse_categorical_crossentropy\n",
        "from tensorflow.keras.regularizers import l1\n",
        "from tensorflow.keras.backend import clear_session\n",
        "from tensorflow.keras.callbacks import TensorBoard\n",
        "from tensorflow.keras.initializers import glorot_normal\n",
        "# from tensorboardcolab import TensorBoardColab \n",
        "\n",
        "# Fix seeds for (hopefully) reproducible results\n",
        "from numpy.random import seed\n",
        "seed(14)\n",
        "from tensorflow import set_random_seed\n",
        "set_random_seed(19)"
      ],
      "execution_count": 0,
      "outputs": []
    },
    {
      "cell_type": "markdown",
      "metadata": {
        "colab_type": "text",
        "id": "7d9_yHMEtNnG"
      },
      "source": [
        "Download the data if necessary and load it:"
      ]
    },
    {
      "cell_type": "code",
      "metadata": {
        "ExecuteTime": {
          "end_time": "2019-05-01T08:39:36.264800Z",
          "start_time": "2019-05-01T08:39:01.207234Z"
        },
        "colab_type": "code",
        "id": "jFmPQL0xM_4p",
        "colab": {
          "base_uri": "https://localhost:8080/",
          "height": 51
        },
        "outputId": "736e1ccb-4cc9-4007-d818-1259ad972ecc"
      },
      "source": [
        "train, test = tf.keras.datasets.cifar10.load_data()\n",
        "\n",
        "train_images, train_labels = train\n",
        "\n",
        "valid_test_images, valid_test_labels = test\n",
        "\n",
        "train_images = train_images / 255.\n",
        "\n",
        "valid_test_images = valid_test_images / 255.\n",
        "\n",
        "valid_images = valid_test_images[:5000]\n",
        "valid_labels = valid_test_labels[:5000]\n",
        "test_images = valid_test_images[5000:]\n",
        "test_labels = valid_test_labels[5000:]\n",
        "\n",
        "print(train_images.shape, valid_images.shape, test_images.shape)\n",
        "print(train_labels.shape, valid_labels.shape, test_labels.shape)"
      ],
      "execution_count": 2,
      "outputs": [
        {
          "output_type": "stream",
          "text": [
            "(50000, 32, 32, 3) (5000, 32, 32, 3) (5000, 32, 32, 3)\n",
            "(50000, 1) (5000, 1) (5000, 1)\n"
          ],
          "name": "stdout"
        }
      ]
    },
    {
      "cell_type": "markdown",
      "metadata": {
        "colab_type": "text",
        "id": "QxyeFqibHm05"
      },
      "source": [
        "# Model\n",
        "\n",
        "## Parameters"
      ]
    },
    {
      "cell_type": "code",
      "metadata": {
        "ExecuteTime": {
          "end_time": "2019-05-01T08:39:36.268218Z",
          "start_time": "2019-05-01T08:39:36.266265Z"
        },
        "colab_type": "code",
        "id": "S075_4a6tNna",
        "colab": {}
      },
      "source": [
        "n_classes = 10"
      ],
      "execution_count": 0,
      "outputs": []
    },
    {
      "cell_type": "code",
      "metadata": {
        "id": "DPn3OX79pq-T",
        "colab_type": "code",
        "colab": {}
      },
      "source": [
        "# TASK - Hyperparameters\n",
        "# Fill in the initial values!\n",
        "# Later, experiment!\n",
        "#############################\n",
        "\n",
        "\n",
        "# dropout - Something between 0.0 < dropout_rate < 1.0, think in \"tens of percentages\" as default\n",
        "# dropout rate for conv layers\n",
        "dropout_rate_1 = 0.25\n",
        "# dropout rate for fully connected layers\n",
        "dropout_rate_2 = 0.4\n",
        "\n",
        "# Choose an appropriate batch size for the training!\n",
        "batch_size = 120\n",
        "\n",
        "# Choose an appropriate number of epochs\n",
        "epoch_count = 60\n",
        "\n",
        "# These are the default parameters, you can experiment with learning rates, schedules, ..."
      ],
      "execution_count": 0,
      "outputs": []
    },
    {
      "cell_type": "markdown",
      "metadata": {
        "colab_type": "text",
        "id": "ACdo3SEitNnl"
      },
      "source": [
        "## Network"
      ]
    },
    {
      "cell_type": "code",
      "metadata": {
        "ExecuteTime": {
          "end_time": "2019-05-01T08:39:36.404889Z",
          "start_time": "2019-05-01T08:39:36.282271Z"
        },
        "colab_type": "code",
        "id": "o8OgyCFaHm1H",
        "colab": {
          "base_uri": "https://localhost:8080/",
          "height": 700
        },
        "outputId": "292c767b-302f-42cb-903d-ec8926b82f8b"
      },
      "source": [
        "# adapted from https://github.com/jtopor/CUNY-MSDA-661/blob/master/CIFAR-CNN/TF-Layers-CIFAR-GITHUB-v3.py\n",
        "\n",
        "\n",
        "tf.reset_default_graph() # It's good practice to clean and reset everything\n",
        "clear_session            # even using Keras\n",
        "\n",
        "\n",
        "# WE USE FUNCTIONAL API!\n",
        "# (Could be different, but not now...)\n",
        "\n",
        "\n",
        "\n",
        "# Model\n",
        "#######\n",
        "\n",
        "# Define the input!\n",
        "# Remember, we have pictures with 32x32 pixels and 3 color channels\n",
        "# Disregard batch size, Keras will do that for us.\n",
        "x = Input(shape=(32,32,3))\n",
        "\n",
        "# Convolutional Layer #1: (batch_size, 32, 32, 3) -> (batch_size, 32, 32, 64)\n",
        "# Define a \"normal\" convolutional layer for images (not a single sequence, so ?D)\n",
        "# There should be 64 convolutional units\n",
        "# The kernel should be 5 in width and heigth\n",
        "# There should be padding so that the input and output dimensions would be equivalent\n",
        "# The non-linearity should be ReLU\n",
        "conv1 = Conv2D(filters=32,\n",
        "      kernel_size=[5, 5],\n",
        "      padding=\"same\",\n",
        "      activation= \"relu\")(x)\n",
        " \n",
        "# Pooling Layer #1: (batch_size, 32, 32, 64) -> (batch_size, 16, 16, 64)\n",
        "# Define a maximum based pooling layer with appropriate dimensions\n",
        "# The pooling size should be 2,2 and stride 2\n",
        "pool1 = MaxPool2D(pool_size=[2, 2], strides=2)(conv1)\n",
        "\n",
        "# Define a dropout layer with using the first dropout rate parameter\n",
        "dropout1 = Dropout(rate=dropout_rate_1)(pool1)\n",
        "\n",
        "# Convolutional Layer #2: (batch_size, 16, 16, 64) -> (batch_size, 16, 16, 64)\n",
        "# Repeat the prior conv layer\n",
        "# Watch for the right input\n",
        "conv2 = Conv2D(filters=32,\n",
        "      kernel_size=[5, 5],\n",
        "      padding=\"same\",\n",
        "      activation= \"relu\")(dropout1)\n",
        "  \n",
        "# Pooling Layer #2: (batch_size, 16, 16, 64) -> (batch_size, 8, 8, 64)\n",
        "# Repeat the prior pooling layer\n",
        "# Watch for the right input\n",
        "pool2 = MaxPool2D(pool_size=[2, 2], strides=2)(conv2)\n",
        "\n",
        "# Define a dropout layer with using the FIRST dropout rate parameter\n",
        "dropout2 = Dropout(rate= dropout_rate_1)(pool2)\n",
        "\n",
        "# Convert tensors into vectors: (batch_size, 8, 8, 64) -> (batch_size, 4096)\n",
        "# Use a single KERAS function, NO numpy or reshape magic!\n",
        "# Hint: the result is not 2D but \"flat\"\n",
        "pool2_flat = Flatten()(dropout2)\n",
        "\n",
        "# Fully connected Layer #1: (batch_size, 4096)-> (batch_size, 512)\n",
        "# Define a fully connected layer with 512 nodes and ReLU\n",
        "dense1 = Dense(units=512, activation=\"relu\")(pool2_flat)\n",
        "\n",
        "# Define a dropout layer with using the SECOND dropout rate parameter\n",
        "dropout3 = Dropout(rate= dropout_rate_2)(dense1)\n",
        "\n",
        "# Dense Layer #1: (batch_size, 512)-> (batch_size, 256)\n",
        "# Define a fully connected layer with 256 nodes and ReLU\n",
        "dense2 = Dense(units=256, activation= \"relu\")(dropout3)\n",
        "\n",
        "# Define a dropout layer with using the SECOND dropout rate parameter\n",
        "dropout4 = Dropout(rate=dropout_rate_2)(dense2)\n",
        "\n",
        "# Logits layer: (batch_size, 256) -> (batch_size, 10)\n",
        "# Define a fully connected layer with ??? nodes\n",
        "# Think about it, what shape should the output be?\n",
        "# What activation?\n",
        "# Think about it: we are in a classification problem!\n",
        "predictions = Dense(units=10, activation = 'softmax')(dropout4)\n",
        "\n",
        "# Full model\n",
        "# Instantiate (initialize) the model with inputs and outputs\n",
        "model = Model(inputs=x, outputs=predictions)\n",
        "\n",
        "model.summary()\n"
      ],
      "execution_count": 5,
      "outputs": [
        {
          "output_type": "stream",
          "text": [
            "WARNING:tensorflow:From /usr/local/lib/python3.6/dist-packages/tensorflow/python/ops/resource_variable_ops.py:435: colocate_with (from tensorflow.python.framework.ops) is deprecated and will be removed in a future version.\n",
            "Instructions for updating:\n",
            "Colocations handled automatically by placer.\n",
            "WARNING:tensorflow:From /usr/local/lib/python3.6/dist-packages/tensorflow/python/keras/layers/core.py:143: calling dropout (from tensorflow.python.ops.nn_ops) with keep_prob is deprecated and will be removed in a future version.\n",
            "Instructions for updating:\n",
            "Please use `rate` instead of `keep_prob`. Rate should be set to `rate = 1 - keep_prob`.\n",
            "_________________________________________________________________\n",
            "Layer (type)                 Output Shape              Param #   \n",
            "=================================================================\n",
            "input_1 (InputLayer)         (None, 32, 32, 3)         0         \n",
            "_________________________________________________________________\n",
            "conv2d (Conv2D)              (None, 32, 32, 32)        2432      \n",
            "_________________________________________________________________\n",
            "max_pooling2d (MaxPooling2D) (None, 16, 16, 32)        0         \n",
            "_________________________________________________________________\n",
            "dropout (Dropout)            (None, 16, 16, 32)        0         \n",
            "_________________________________________________________________\n",
            "conv2d_1 (Conv2D)            (None, 16, 16, 32)        25632     \n",
            "_________________________________________________________________\n",
            "max_pooling2d_1 (MaxPooling2 (None, 8, 8, 32)          0         \n",
            "_________________________________________________________________\n",
            "dropout_1 (Dropout)          (None, 8, 8, 32)          0         \n",
            "_________________________________________________________________\n",
            "flatten (Flatten)            (None, 2048)              0         \n",
            "_________________________________________________________________\n",
            "dense (Dense)                (None, 512)               1049088   \n",
            "_________________________________________________________________\n",
            "dropout_2 (Dropout)          (None, 512)               0         \n",
            "_________________________________________________________________\n",
            "dense_1 (Dense)              (None, 256)               131328    \n",
            "_________________________________________________________________\n",
            "dropout_3 (Dropout)          (None, 256)               0         \n",
            "_________________________________________________________________\n",
            "dense_2 (Dense)              (None, 10)                2570      \n",
            "=================================================================\n",
            "Total params: 1,211,050\n",
            "Trainable params: 1,211,050\n",
            "Non-trainable params: 0\n",
            "_________________________________________________________________\n"
          ],
          "name": "stdout"
        }
      ]
    },
    {
      "cell_type": "markdown",
      "metadata": {
        "colab_type": "text",
        "id": "LGKQ-8bmtNn1"
      },
      "source": [
        "## Loss, optimization and compilation"
      ]
    },
    {
      "cell_type": "code",
      "metadata": {
        "ExecuteTime": {
          "end_time": "2019-05-01T08:39:36.473837Z",
          "start_time": "2019-05-01T08:39:36.407595Z"
        },
        "colab_type": "code",
        "id": "j1UmvSzLHm1R",
        "colab": {}
      },
      "source": [
        "# Loss \n",
        "\n",
        "loss = sparse_categorical_crossentropy # we use this cross entropy variant as the input is not \n",
        "                                       # one-hot encoded\n",
        "\n",
        "# Optimizer\n",
        "# Choose an optimizer - adaptive ones work well here\n",
        "optimizer = 'adam'\n",
        " \n",
        "# Compilation\n",
        "#############\n",
        "\n",
        "model.compile(optimizer=optimizer, loss=loss, metrics=['accuracy'])"
      ],
      "execution_count": 0,
      "outputs": []
    },
    {
      "cell_type": "markdown",
      "metadata": {
        "colab_type": "text",
        "id": "gkPe16fDtNoJ"
      },
      "source": [
        "## Training"
      ]
    },
    {
      "cell_type": "code",
      "metadata": {
        "ExecuteTime": {
          "end_time": "2019-05-01T08:51:59.029061Z",
          "start_time": "2019-05-01T08:39:36.475186Z"
        },
        "colab_type": "code",
        "id": "zZ1d14lFtNoM",
        "colab": {
          "base_uri": "https://localhost:8080/",
          "height": 2074
        },
        "outputId": "d0c8c212-0c2f-46a4-e49a-243e9b3fd9ad"
      },
      "source": [
        "# tb=TensorBoard(log_dir='./Graph')\n",
        "# tbc=TensorBoardColab(graph_path='./Graph')\n",
        "\n",
        "history = model.fit(x=train_images, y=train_labels,\n",
        "                    validation_data=(valid_images, valid_labels),\n",
        "                    epochs=epoch_count,\n",
        "                    batch_size=batch_size) #, callbacks=[tb])"
      ],
      "execution_count": 7,
      "outputs": [
        {
          "output_type": "stream",
          "text": [
            "Train on 50000 samples, validate on 5000 samples\n",
            "Epoch 1/60\n",
            "50000/50000 [==============================] - 6s 123us/sample - loss: 1.6838 - acc: 0.3824 - val_loss: 1.3117 - val_acc: 0.5312\n",
            "Epoch 2/60\n",
            "50000/50000 [==============================] - 4s 83us/sample - loss: 1.3142 - acc: 0.5272 - val_loss: 1.1722 - val_acc: 0.5708\n",
            "Epoch 3/60\n",
            "50000/50000 [==============================] - 4s 78us/sample - loss: 1.1606 - acc: 0.5884 - val_loss: 1.0273 - val_acc: 0.6368\n",
            "Epoch 4/60\n",
            "50000/50000 [==============================] - 4s 76us/sample - loss: 1.0840 - acc: 0.6196 - val_loss: 0.9687 - val_acc: 0.6552\n",
            "Epoch 5/60\n",
            "50000/50000 [==============================] - 4s 76us/sample - loss: 1.0076 - acc: 0.6457 - val_loss: 0.9217 - val_acc: 0.6778\n",
            "Epoch 6/60\n",
            "50000/50000 [==============================] - 4s 76us/sample - loss: 0.9564 - acc: 0.6665 - val_loss: 0.9079 - val_acc: 0.6878\n",
            "Epoch 7/60\n",
            "50000/50000 [==============================] - 4s 76us/sample - loss: 0.9071 - acc: 0.6816 - val_loss: 0.9066 - val_acc: 0.6816\n",
            "Epoch 8/60\n",
            "50000/50000 [==============================] - 4s 76us/sample - loss: 0.8721 - acc: 0.6914 - val_loss: 0.8430 - val_acc: 0.7098\n",
            "Epoch 9/60\n",
            "50000/50000 [==============================] - 4s 76us/sample - loss: 0.8244 - acc: 0.7095 - val_loss: 0.8256 - val_acc: 0.7108\n",
            "Epoch 10/60\n",
            "50000/50000 [==============================] - 4s 76us/sample - loss: 0.8047 - acc: 0.7157 - val_loss: 0.8267 - val_acc: 0.7078\n",
            "Epoch 11/60\n",
            "50000/50000 [==============================] - 4s 76us/sample - loss: 0.7794 - acc: 0.7271 - val_loss: 0.8192 - val_acc: 0.7136\n",
            "Epoch 12/60\n",
            "50000/50000 [==============================] - 4s 76us/sample - loss: 0.7386 - acc: 0.7398 - val_loss: 0.8351 - val_acc: 0.7154\n",
            "Epoch 13/60\n",
            "50000/50000 [==============================] - 4s 76us/sample - loss: 0.7349 - acc: 0.7436 - val_loss: 0.8107 - val_acc: 0.7238\n",
            "Epoch 14/60\n",
            "50000/50000 [==============================] - 4s 76us/sample - loss: 0.7083 - acc: 0.7516 - val_loss: 0.7724 - val_acc: 0.7326\n",
            "Epoch 15/60\n",
            "50000/50000 [==============================] - 4s 76us/sample - loss: 0.6915 - acc: 0.7566 - val_loss: 0.7750 - val_acc: 0.7326\n",
            "Epoch 16/60\n",
            "50000/50000 [==============================] - 4s 76us/sample - loss: 0.6609 - acc: 0.7677 - val_loss: 0.7754 - val_acc: 0.7338\n",
            "Epoch 17/60\n",
            "50000/50000 [==============================] - 4s 76us/sample - loss: 0.6528 - acc: 0.7691 - val_loss: 0.7951 - val_acc: 0.7272\n",
            "Epoch 18/60\n",
            "50000/50000 [==============================] - 4s 76us/sample - loss: 0.6412 - acc: 0.7731 - val_loss: 0.7846 - val_acc: 0.7364\n",
            "Epoch 19/60\n",
            "50000/50000 [==============================] - 4s 76us/sample - loss: 0.6152 - acc: 0.7816 - val_loss: 0.7813 - val_acc: 0.7344\n",
            "Epoch 20/60\n",
            "50000/50000 [==============================] - 4s 76us/sample - loss: 0.6023 - acc: 0.7875 - val_loss: 0.7779 - val_acc: 0.7336\n",
            "Epoch 21/60\n",
            "50000/50000 [==============================] - 4s 77us/sample - loss: 0.5919 - acc: 0.7903 - val_loss: 0.7935 - val_acc: 0.7312\n",
            "Epoch 22/60\n",
            "50000/50000 [==============================] - 4s 83us/sample - loss: 0.5731 - acc: 0.7979 - val_loss: 0.7868 - val_acc: 0.7332\n",
            "Epoch 23/60\n",
            "50000/50000 [==============================] - 4s 83us/sample - loss: 0.5747 - acc: 0.7987 - val_loss: 0.7805 - val_acc: 0.7346\n",
            "Epoch 24/60\n",
            "50000/50000 [==============================] - 4s 78us/sample - loss: 0.5585 - acc: 0.8030 - val_loss: 0.7659 - val_acc: 0.7454\n",
            "Epoch 25/60\n",
            "50000/50000 [==============================] - 4s 75us/sample - loss: 0.5424 - acc: 0.8094 - val_loss: 0.7906 - val_acc: 0.7376\n",
            "Epoch 26/60\n",
            "50000/50000 [==============================] - 4s 75us/sample - loss: 0.5343 - acc: 0.8111 - val_loss: 0.7775 - val_acc: 0.7458\n",
            "Epoch 27/60\n",
            "50000/50000 [==============================] - 4s 75us/sample - loss: 0.5199 - acc: 0.8182 - val_loss: 0.7680 - val_acc: 0.7466\n",
            "Epoch 28/60\n",
            "50000/50000 [==============================] - 4s 76us/sample - loss: 0.5115 - acc: 0.8200 - val_loss: 0.7738 - val_acc: 0.7440\n",
            "Epoch 29/60\n",
            "50000/50000 [==============================] - 4s 75us/sample - loss: 0.5056 - acc: 0.8228 - val_loss: 0.7619 - val_acc: 0.7530\n",
            "Epoch 30/60\n",
            "50000/50000 [==============================] - 4s 75us/sample - loss: 0.5009 - acc: 0.8230 - val_loss: 0.7705 - val_acc: 0.7406\n",
            "Epoch 31/60\n",
            "50000/50000 [==============================] - 4s 75us/sample - loss: 0.4922 - acc: 0.8280 - val_loss: 0.7725 - val_acc: 0.7486\n",
            "Epoch 32/60\n",
            "50000/50000 [==============================] - 4s 76us/sample - loss: 0.4892 - acc: 0.8284 - val_loss: 0.8079 - val_acc: 0.7342\n",
            "Epoch 33/60\n",
            "50000/50000 [==============================] - 4s 75us/sample - loss: 0.4753 - acc: 0.8341 - val_loss: 0.7857 - val_acc: 0.7390\n",
            "Epoch 34/60\n",
            "50000/50000 [==============================] - 4s 76us/sample - loss: 0.4684 - acc: 0.8368 - val_loss: 0.7760 - val_acc: 0.7494\n",
            "Epoch 35/60\n",
            "50000/50000 [==============================] - 4s 75us/sample - loss: 0.4621 - acc: 0.8395 - val_loss: 0.7901 - val_acc: 0.7364\n",
            "Epoch 36/60\n",
            "50000/50000 [==============================] - 4s 76us/sample - loss: 0.4554 - acc: 0.8398 - val_loss: 0.8088 - val_acc: 0.7442\n",
            "Epoch 37/60\n",
            "50000/50000 [==============================] - 4s 76us/sample - loss: 0.4452 - acc: 0.8433 - val_loss: 0.7766 - val_acc: 0.7536\n",
            "Epoch 38/60\n",
            "50000/50000 [==============================] - 4s 76us/sample - loss: 0.4438 - acc: 0.8440 - val_loss: 0.7709 - val_acc: 0.7488\n",
            "Epoch 39/60\n",
            "50000/50000 [==============================] - 4s 76us/sample - loss: 0.4379 - acc: 0.8450 - val_loss: 0.7854 - val_acc: 0.7460\n",
            "Epoch 40/60\n",
            "50000/50000 [==============================] - 4s 75us/sample - loss: 0.4385 - acc: 0.8476 - val_loss: 0.7805 - val_acc: 0.7454\n",
            "Epoch 41/60\n",
            "50000/50000 [==============================] - 4s 76us/sample - loss: 0.4290 - acc: 0.8491 - val_loss: 0.7977 - val_acc: 0.7562\n",
            "Epoch 42/60\n",
            "50000/50000 [==============================] - 4s 76us/sample - loss: 0.4233 - acc: 0.8533 - val_loss: 0.8000 - val_acc: 0.7474\n",
            "Epoch 43/60\n",
            "50000/50000 [==============================] - 4s 83us/sample - loss: 0.4194 - acc: 0.8546 - val_loss: 0.7906 - val_acc: 0.7502\n",
            "Epoch 44/60\n",
            "50000/50000 [==============================] - 4s 83us/sample - loss: 0.4193 - acc: 0.8536 - val_loss: 0.7854 - val_acc: 0.7512\n",
            "Epoch 45/60\n",
            "50000/50000 [==============================] - 4s 78us/sample - loss: 0.4185 - acc: 0.8546 - val_loss: 0.7897 - val_acc: 0.7522\n",
            "Epoch 46/60\n",
            "50000/50000 [==============================] - 4s 75us/sample - loss: 0.4040 - acc: 0.8593 - val_loss: 0.8034 - val_acc: 0.7528\n",
            "Epoch 47/60\n",
            "50000/50000 [==============================] - 4s 75us/sample - loss: 0.3994 - acc: 0.8610 - val_loss: 0.8055 - val_acc: 0.7518\n",
            "Epoch 48/60\n",
            "50000/50000 [==============================] - 4s 76us/sample - loss: 0.3969 - acc: 0.8631 - val_loss: 0.7986 - val_acc: 0.7484\n",
            "Epoch 49/60\n",
            "50000/50000 [==============================] - 4s 76us/sample - loss: 0.3940 - acc: 0.8633 - val_loss: 0.7850 - val_acc: 0.7540\n",
            "Epoch 50/60\n",
            "50000/50000 [==============================] - 4s 82us/sample - loss: 0.3860 - acc: 0.8646 - val_loss: 0.8072 - val_acc: 0.7596\n",
            "Epoch 51/60\n",
            "50000/50000 [==============================] - 4s 85us/sample - loss: 0.3872 - acc: 0.8654 - val_loss: 0.8094 - val_acc: 0.7544\n",
            "Epoch 52/60\n",
            "50000/50000 [==============================] - 4s 82us/sample - loss: 0.3805 - acc: 0.8680 - val_loss: 0.8126 - val_acc: 0.7528\n",
            "Epoch 53/60\n",
            "50000/50000 [==============================] - 4s 76us/sample - loss: 0.3786 - acc: 0.8699 - val_loss: 0.7920 - val_acc: 0.7520\n",
            "Epoch 54/60\n",
            "50000/50000 [==============================] - 4s 76us/sample - loss: 0.3842 - acc: 0.8680 - val_loss: 0.8078 - val_acc: 0.7542\n",
            "Epoch 55/60\n",
            "50000/50000 [==============================] - 4s 75us/sample - loss: 0.3712 - acc: 0.8722 - val_loss: 0.8110 - val_acc: 0.7434\n",
            "Epoch 56/60\n",
            "50000/50000 [==============================] - 4s 76us/sample - loss: 0.3650 - acc: 0.8745 - val_loss: 0.8127 - val_acc: 0.7500\n",
            "Epoch 57/60\n",
            "50000/50000 [==============================] - 4s 76us/sample - loss: 0.3714 - acc: 0.8716 - val_loss: 0.8349 - val_acc: 0.7456\n",
            "Epoch 58/60\n",
            "50000/50000 [==============================] - 4s 75us/sample - loss: 0.3644 - acc: 0.8737 - val_loss: 0.7974 - val_acc: 0.7518\n",
            "Epoch 59/60\n",
            "50000/50000 [==============================] - 4s 75us/sample - loss: 0.3557 - acc: 0.8764 - val_loss: 0.8090 - val_acc: 0.7514\n",
            "Epoch 60/60\n",
            "50000/50000 [==============================] - 4s 76us/sample - loss: 0.3664 - acc: 0.8757 - val_loss: 0.8333 - val_acc: 0.7450\n"
          ],
          "name": "stdout"
        }
      ]
    },
    {
      "cell_type": "code",
      "metadata": {
        "ExecuteTime": {
          "end_time": "2019-05-01T08:56:28.958057Z",
          "start_time": "2019-05-01T08:56:28.713031Z"
        },
        "colab_type": "code",
        "id": "6GTGeChttNoi",
        "colab": {
          "base_uri": "https://localhost:8080/",
          "height": 573
        },
        "outputId": "5c39d5ee-864d-4998-c97f-e7f977eae66e"
      },
      "source": [
        "from matplotlib import pyplot as plt\n",
        "\n",
        "def display_history(history):\n",
        "    \"\"\"Summarize history for accuracy and loss.\n",
        "    \"\"\"\n",
        "    plt.plot(history.history['acc'])\n",
        "    plt.plot(history.history['val_acc'])\n",
        "    plt.title('Model accuracy')\n",
        "    plt.ylabel('accuracy')\n",
        "    plt.xlabel('epoch')\n",
        "    plt.legend(['train', 'valid'], loc='upper left')\n",
        "    plt.show()\n",
        "    plt.plot(history.history['loss'])\n",
        "    plt.plot(history.history['val_loss'])\n",
        "    plt.title('Model loss')\n",
        "    plt.ylabel('loss')\n",
        "    plt.xlabel('epoch')\n",
        "    plt.legend(['train', 'valid'], loc='upper left')\n",
        "    plt.show()\n",
        "    \n",
        "display_history(history);"
      ],
      "execution_count": 8,
      "outputs": [
        {
          "output_type": "display_data",
          "data": {
            "image/png": "[encoded data removed]",
            "text/plain": [
              "<Figure size 432x288 with 1 Axes>"
            ]
          },
          "metadata": {
            "tags": []
          }
        },
        {
          "output_type": "display_data",
          "data": {
            "image/png": "[encoded data removed]",
            "text/plain": [
              "<Figure size 432x288 with 1 Axes>"
            ]
          },
          "metadata": {
            "tags": []
          }
        }
      ]
    },
    {
      "cell_type": "code",
      "metadata": {
        "ExecuteTime": {
          "end_time": "2019-05-01T08:52:07.228831Z",
          "start_time": "2019-05-01T08:52:07.222761Z"
        },
        "id": "zCbJ-4iJpflW",
        "colab_type": "code",
        "colab": {}
      },
      "source": [
        "assert max(history.history['val_acc']) > 0.75"
      ],
      "execution_count": 0,
      "outputs": []
    },
    {
      "cell_type": "markdown",
      "metadata": {
        "colab_type": "text",
        "id": "O7nD81aQtNo3"
      },
      "source": [
        "## Saving the model"
      ]
    },
    {
      "cell_type": "code",
      "metadata": {
        "ExecuteTime": {
          "end_time": "2019-05-01T08:52:10.803767Z",
          "start_time": "2019-05-01T08:52:10.663477Z"
        },
        "colab_type": "code",
        "id": "XcFR3MkStNo5",
        "colab": {}
      },
      "source": [
        "model.save('my_model.h5')  # creates a HDF5 file 'my_model.h5'"
      ],
      "execution_count": 0,
      "outputs": []
    }
  ]
}